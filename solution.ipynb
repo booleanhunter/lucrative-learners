{
 "cells": [
  {
   "cell_type": "markdown",
   "id": "e85ef74e-6764-4cae-a8d1-237750cd5f28",
   "metadata": {},
   "source": [
    "# Lucrative Learners\n",
    "\n",
    "This case study aims at enhancing the lead conversion rate for X Education, an online education company that sells professional courses to industry experts. The project focuses on identifying the most promising leads, also known as \"Hot Leads,\" to increase the efficiency of the company's sales and marketing efforts.\n",
    "\n",
    "To achieve this goal, the project will:\n",
    "\n",
    "1. Develop a logistic regression model that assigns a lead score between 0 and 100 to each lead. A higher score indicates a hot lead with a high likelihood of converting, while a lower score signifies a cold lead with a low probability of conversion.\n",
    "2. Ensure that the model can adapt to new requirements or changes in the company's lead evaluation strategy as specified in a separate document.\n",
    "3. Provide recommendations for implementation"
   ]
  },
  {
   "cell_type": "markdown",
   "id": "6f926e9b-4d98-4f80-aa1f-d5df56cd0960",
   "metadata": {},
   "source": [
    "## About the dataset\n",
    "\n",
    "1. `Leads.csv`: The dataset is a CSV file with around 9000 data points. It consists of various attributes such as Lead Source, Total Time Spent on Website, Total Visits, Last Activity, etc. The target variable is the column ‘Converted’ which tells whether a past lead was converted or not wherein `1` means it was converted and `0` means it wasn’t converted\n",
    "2. 'Leads Data Dictionary.xlsx': is a data dictionary which describes the meaning of the variables."
   ]
  },
  {
   "cell_type": "code",
   "execution_count": 4,
   "id": "2dd4f2e1-1c1b-46fd-9324-9c779e6b7208",
   "metadata": {},
   "outputs": [],
   "source": [
    "# Suppressing Warnings\n",
    "import warnings\n",
    "warnings.filterwarnings('ignore')"
   ]
  },
  {
   "cell_type": "code",
   "execution_count": 1,
   "id": "048f255b-b177-46bd-9054-89c8c26c3747",
   "metadata": {},
   "outputs": [],
   "source": [
    "#Import the required Libraries.\n",
    "\n",
    "import numpy as np\n",
    "import pandas as pd\n",
    "import matplotlib.pyplot as plt\n",
    "import seaborn as sns\n",
    "\n",
    "from IPython.display import display, HTML\n",
    "import ipywidgets as widgets\n",
    "\n",
    "pd.set_option('display.max_columns', 122)\n",
    "pd.set_option(\"display.max_rows\", None)\n",
    "pd.set_option('display.max_colwidth', None)\n",
    "\n",
    "%matplotlib inline"
   ]
  },
  {
   "cell_type": "code",
   "execution_count": 169,
   "id": "07d61f9b-498d-4887-9135-7239bdbb6e47",
   "metadata": {},
   "outputs": [
    {
     "data": {
      "text/html": [
       "<div>\n",
       "<style scoped>\n",
       "    .dataframe tbody tr th:only-of-type {\n",
       "        vertical-align: middle;\n",
       "    }\n",
       "\n",
       "    .dataframe tbody tr th {\n",
       "        vertical-align: top;\n",
       "    }\n",
       "\n",
       "    .dataframe thead th {\n",
       "        text-align: right;\n",
       "    }\n",
       "</style>\n",
       "<table border=\"1\" class=\"dataframe\">\n",
       "  <thead>\n",
       "    <tr style=\"text-align: right;\">\n",
       "      <th></th>\n",
       "      <th>Prospect ID</th>\n",
       "      <th>Lead Number</th>\n",
       "      <th>Lead Origin</th>\n",
       "      <th>Lead Source</th>\n",
       "      <th>Do Not Email</th>\n",
       "      <th>Do Not Call</th>\n",
       "      <th>Converted</th>\n",
       "      <th>TotalVisits</th>\n",
       "      <th>Total Time Spent on Website</th>\n",
       "      <th>Page Views Per Visit</th>\n",
       "      <th>Last Activity</th>\n",
       "      <th>Country</th>\n",
       "      <th>Specialization</th>\n",
       "      <th>How did you hear about X Education</th>\n",
       "      <th>What is your current occupation</th>\n",
       "      <th>What matters most to you in choosing a course</th>\n",
       "      <th>Search</th>\n",
       "      <th>Magazine</th>\n",
       "      <th>Newspaper Article</th>\n",
       "      <th>X Education Forums</th>\n",
       "      <th>Newspaper</th>\n",
       "      <th>Digital Advertisement</th>\n",
       "      <th>Through Recommendations</th>\n",
       "      <th>Receive More Updates About Our Courses</th>\n",
       "      <th>Tags</th>\n",
       "      <th>Lead Quality</th>\n",
       "      <th>Update me on Supply Chain Content</th>\n",
       "      <th>Get updates on DM Content</th>\n",
       "      <th>Lead Profile</th>\n",
       "      <th>City</th>\n",
       "      <th>Asymmetrique Activity Index</th>\n",
       "      <th>Asymmetrique Profile Index</th>\n",
       "      <th>Asymmetrique Activity Score</th>\n",
       "      <th>Asymmetrique Profile Score</th>\n",
       "      <th>I agree to pay the amount through cheque</th>\n",
       "      <th>A free copy of Mastering The Interview</th>\n",
       "      <th>Last Notable Activity</th>\n",
       "    </tr>\n",
       "  </thead>\n",
       "  <tbody>\n",
       "    <tr>\n",
       "      <th>0</th>\n",
       "      <td>7927b2df-8bba-4d29-b9a2-b6e0beafe620</td>\n",
       "      <td>660737</td>\n",
       "      <td>API</td>\n",
       "      <td>Olark Chat</td>\n",
       "      <td>No</td>\n",
       "      <td>No</td>\n",
       "      <td>0</td>\n",
       "      <td>0.0</td>\n",
       "      <td>0</td>\n",
       "      <td>0.0</td>\n",
       "      <td>Page Visited on Website</td>\n",
       "      <td>NaN</td>\n",
       "      <td>Select</td>\n",
       "      <td>Select</td>\n",
       "      <td>Unemployed</td>\n",
       "      <td>Better Career Prospects</td>\n",
       "      <td>No</td>\n",
       "      <td>No</td>\n",
       "      <td>No</td>\n",
       "      <td>No</td>\n",
       "      <td>No</td>\n",
       "      <td>No</td>\n",
       "      <td>No</td>\n",
       "      <td>No</td>\n",
       "      <td>Interested in other courses</td>\n",
       "      <td>Low in Relevance</td>\n",
       "      <td>No</td>\n",
       "      <td>No</td>\n",
       "      <td>Select</td>\n",
       "      <td>Select</td>\n",
       "      <td>02.Medium</td>\n",
       "      <td>02.Medium</td>\n",
       "      <td>15.0</td>\n",
       "      <td>15.0</td>\n",
       "      <td>No</td>\n",
       "      <td>No</td>\n",
       "      <td>Modified</td>\n",
       "    </tr>\n",
       "    <tr>\n",
       "      <th>1</th>\n",
       "      <td>2a272436-5132-4136-86fa-dcc88c88f482</td>\n",
       "      <td>660728</td>\n",
       "      <td>API</td>\n",
       "      <td>Organic Search</td>\n",
       "      <td>No</td>\n",
       "      <td>No</td>\n",
       "      <td>0</td>\n",
       "      <td>5.0</td>\n",
       "      <td>674</td>\n",
       "      <td>2.5</td>\n",
       "      <td>Email Opened</td>\n",
       "      <td>India</td>\n",
       "      <td>Select</td>\n",
       "      <td>Select</td>\n",
       "      <td>Unemployed</td>\n",
       "      <td>Better Career Prospects</td>\n",
       "      <td>No</td>\n",
       "      <td>No</td>\n",
       "      <td>No</td>\n",
       "      <td>No</td>\n",
       "      <td>No</td>\n",
       "      <td>No</td>\n",
       "      <td>No</td>\n",
       "      <td>No</td>\n",
       "      <td>Ringing</td>\n",
       "      <td>NaN</td>\n",
       "      <td>No</td>\n",
       "      <td>No</td>\n",
       "      <td>Select</td>\n",
       "      <td>Select</td>\n",
       "      <td>02.Medium</td>\n",
       "      <td>02.Medium</td>\n",
       "      <td>15.0</td>\n",
       "      <td>15.0</td>\n",
       "      <td>No</td>\n",
       "      <td>No</td>\n",
       "      <td>Email Opened</td>\n",
       "    </tr>\n",
       "    <tr>\n",
       "      <th>2</th>\n",
       "      <td>8cc8c611-a219-4f35-ad23-fdfd2656bd8a</td>\n",
       "      <td>660727</td>\n",
       "      <td>Landing Page Submission</td>\n",
       "      <td>Direct Traffic</td>\n",
       "      <td>No</td>\n",
       "      <td>No</td>\n",
       "      <td>1</td>\n",
       "      <td>2.0</td>\n",
       "      <td>1532</td>\n",
       "      <td>2.0</td>\n",
       "      <td>Email Opened</td>\n",
       "      <td>India</td>\n",
       "      <td>Business Administration</td>\n",
       "      <td>Select</td>\n",
       "      <td>Student</td>\n",
       "      <td>Better Career Prospects</td>\n",
       "      <td>No</td>\n",
       "      <td>No</td>\n",
       "      <td>No</td>\n",
       "      <td>No</td>\n",
       "      <td>No</td>\n",
       "      <td>No</td>\n",
       "      <td>No</td>\n",
       "      <td>No</td>\n",
       "      <td>Will revert after reading the email</td>\n",
       "      <td>Might be</td>\n",
       "      <td>No</td>\n",
       "      <td>No</td>\n",
       "      <td>Potential Lead</td>\n",
       "      <td>Mumbai</td>\n",
       "      <td>02.Medium</td>\n",
       "      <td>01.High</td>\n",
       "      <td>14.0</td>\n",
       "      <td>20.0</td>\n",
       "      <td>No</td>\n",
       "      <td>Yes</td>\n",
       "      <td>Email Opened</td>\n",
       "    </tr>\n",
       "    <tr>\n",
       "      <th>3</th>\n",
       "      <td>0cc2df48-7cf4-4e39-9de9-19797f9b38cc</td>\n",
       "      <td>660719</td>\n",
       "      <td>Landing Page Submission</td>\n",
       "      <td>Direct Traffic</td>\n",
       "      <td>No</td>\n",
       "      <td>No</td>\n",
       "      <td>0</td>\n",
       "      <td>1.0</td>\n",
       "      <td>305</td>\n",
       "      <td>1.0</td>\n",
       "      <td>Unreachable</td>\n",
       "      <td>India</td>\n",
       "      <td>Media and Advertising</td>\n",
       "      <td>Word Of Mouth</td>\n",
       "      <td>Unemployed</td>\n",
       "      <td>Better Career Prospects</td>\n",
       "      <td>No</td>\n",
       "      <td>No</td>\n",
       "      <td>No</td>\n",
       "      <td>No</td>\n",
       "      <td>No</td>\n",
       "      <td>No</td>\n",
       "      <td>No</td>\n",
       "      <td>No</td>\n",
       "      <td>Ringing</td>\n",
       "      <td>Not Sure</td>\n",
       "      <td>No</td>\n",
       "      <td>No</td>\n",
       "      <td>Select</td>\n",
       "      <td>Mumbai</td>\n",
       "      <td>02.Medium</td>\n",
       "      <td>01.High</td>\n",
       "      <td>13.0</td>\n",
       "      <td>17.0</td>\n",
       "      <td>No</td>\n",
       "      <td>No</td>\n",
       "      <td>Modified</td>\n",
       "    </tr>\n",
       "    <tr>\n",
       "      <th>4</th>\n",
       "      <td>3256f628-e534-4826-9d63-4a8b88782852</td>\n",
       "      <td>660681</td>\n",
       "      <td>Landing Page Submission</td>\n",
       "      <td>Google</td>\n",
       "      <td>No</td>\n",
       "      <td>No</td>\n",
       "      <td>1</td>\n",
       "      <td>2.0</td>\n",
       "      <td>1428</td>\n",
       "      <td>1.0</td>\n",
       "      <td>Converted to Lead</td>\n",
       "      <td>India</td>\n",
       "      <td>Select</td>\n",
       "      <td>Other</td>\n",
       "      <td>Unemployed</td>\n",
       "      <td>Better Career Prospects</td>\n",
       "      <td>No</td>\n",
       "      <td>No</td>\n",
       "      <td>No</td>\n",
       "      <td>No</td>\n",
       "      <td>No</td>\n",
       "      <td>No</td>\n",
       "      <td>No</td>\n",
       "      <td>No</td>\n",
       "      <td>Will revert after reading the email</td>\n",
       "      <td>Might be</td>\n",
       "      <td>No</td>\n",
       "      <td>No</td>\n",
       "      <td>Select</td>\n",
       "      <td>Mumbai</td>\n",
       "      <td>02.Medium</td>\n",
       "      <td>01.High</td>\n",
       "      <td>15.0</td>\n",
       "      <td>18.0</td>\n",
       "      <td>No</td>\n",
       "      <td>No</td>\n",
       "      <td>Modified</td>\n",
       "    </tr>\n",
       "  </tbody>\n",
       "</table>\n",
       "</div>"
      ],
      "text/plain": [
       "                            Prospect ID  Lead Number              Lead Origin  \\\n",
       "0  7927b2df-8bba-4d29-b9a2-b6e0beafe620       660737                      API   \n",
       "1  2a272436-5132-4136-86fa-dcc88c88f482       660728                      API   \n",
       "2  8cc8c611-a219-4f35-ad23-fdfd2656bd8a       660727  Landing Page Submission   \n",
       "3  0cc2df48-7cf4-4e39-9de9-19797f9b38cc       660719  Landing Page Submission   \n",
       "4  3256f628-e534-4826-9d63-4a8b88782852       660681  Landing Page Submission   \n",
       "\n",
       "      Lead Source Do Not Email Do Not Call  Converted  TotalVisits  \\\n",
       "0      Olark Chat           No          No          0          0.0   \n",
       "1  Organic Search           No          No          0          5.0   \n",
       "2  Direct Traffic           No          No          1          2.0   \n",
       "3  Direct Traffic           No          No          0          1.0   \n",
       "4          Google           No          No          1          2.0   \n",
       "\n",
       "   Total Time Spent on Website  Page Views Per Visit            Last Activity  \\\n",
       "0                            0                   0.0  Page Visited on Website   \n",
       "1                          674                   2.5             Email Opened   \n",
       "2                         1532                   2.0             Email Opened   \n",
       "3                          305                   1.0              Unreachable   \n",
       "4                         1428                   1.0        Converted to Lead   \n",
       "\n",
       "  Country           Specialization How did you hear about X Education  \\\n",
       "0     NaN                   Select                             Select   \n",
       "1   India                   Select                             Select   \n",
       "2   India  Business Administration                             Select   \n",
       "3   India    Media and Advertising                      Word Of Mouth   \n",
       "4   India                   Select                              Other   \n",
       "\n",
       "  What is your current occupation  \\\n",
       "0                      Unemployed   \n",
       "1                      Unemployed   \n",
       "2                         Student   \n",
       "3                      Unemployed   \n",
       "4                      Unemployed   \n",
       "\n",
       "  What matters most to you in choosing a course Search Magazine  \\\n",
       "0                       Better Career Prospects     No       No   \n",
       "1                       Better Career Prospects     No       No   \n",
       "2                       Better Career Prospects     No       No   \n",
       "3                       Better Career Prospects     No       No   \n",
       "4                       Better Career Prospects     No       No   \n",
       "\n",
       "  Newspaper Article X Education Forums Newspaper Digital Advertisement  \\\n",
       "0                No                 No        No                    No   \n",
       "1                No                 No        No                    No   \n",
       "2                No                 No        No                    No   \n",
       "3                No                 No        No                    No   \n",
       "4                No                 No        No                    No   \n",
       "\n",
       "  Through Recommendations Receive More Updates About Our Courses  \\\n",
       "0                      No                                     No   \n",
       "1                      No                                     No   \n",
       "2                      No                                     No   \n",
       "3                      No                                     No   \n",
       "4                      No                                     No   \n",
       "\n",
       "                                  Tags      Lead Quality  \\\n",
       "0          Interested in other courses  Low in Relevance   \n",
       "1                              Ringing               NaN   \n",
       "2  Will revert after reading the email          Might be   \n",
       "3                              Ringing          Not Sure   \n",
       "4  Will revert after reading the email          Might be   \n",
       "\n",
       "  Update me on Supply Chain Content Get updates on DM Content    Lead Profile  \\\n",
       "0                                No                        No          Select   \n",
       "1                                No                        No          Select   \n",
       "2                                No                        No  Potential Lead   \n",
       "3                                No                        No          Select   \n",
       "4                                No                        No          Select   \n",
       "\n",
       "     City Asymmetrique Activity Index Asymmetrique Profile Index  \\\n",
       "0  Select                   02.Medium                  02.Medium   \n",
       "1  Select                   02.Medium                  02.Medium   \n",
       "2  Mumbai                   02.Medium                    01.High   \n",
       "3  Mumbai                   02.Medium                    01.High   \n",
       "4  Mumbai                   02.Medium                    01.High   \n",
       "\n",
       "   Asymmetrique Activity Score  Asymmetrique Profile Score  \\\n",
       "0                         15.0                        15.0   \n",
       "1                         15.0                        15.0   \n",
       "2                         14.0                        20.0   \n",
       "3                         13.0                        17.0   \n",
       "4                         15.0                        18.0   \n",
       "\n",
       "  I agree to pay the amount through cheque  \\\n",
       "0                                       No   \n",
       "1                                       No   \n",
       "2                                       No   \n",
       "3                                       No   \n",
       "4                                       No   \n",
       "\n",
       "  A free copy of Mastering The Interview Last Notable Activity  \n",
       "0                                     No              Modified  \n",
       "1                                     No          Email Opened  \n",
       "2                                    Yes          Email Opened  \n",
       "3                                     No              Modified  \n",
       "4                                     No              Modified  "
      ]
     },
     "execution_count": 169,
     "metadata": {},
     "output_type": "execute_result"
    }
   ],
   "source": [
    "# Importing all datasets\n",
    "leads_data = pd.read_csv(\"data/Leads.csv\")\n",
    "leads_data.head()"
   ]
  },
  {
   "cell_type": "code",
   "execution_count": 66,
   "id": "840d920a-05c0-472b-9ee8-568ef251dad5",
   "metadata": {},
   "outputs": [
    {
     "data": {
      "text/plain": [
       "(9240, 37)"
      ]
     },
     "execution_count": 66,
     "metadata": {},
     "output_type": "execute_result"
    }
   ],
   "source": [
    "leads_data.shape"
   ]
  },
  {
   "cell_type": "markdown",
   "id": "3f784bfa-a89d-494e-a3c5-50bdb5005d50",
   "metadata": {
    "tags": []
   },
   "source": [
    "## Data quality and cleaning"
   ]
  },
  {
   "cell_type": "code",
   "execution_count": 7,
   "id": "4aacc8b6-b1b9-44c6-9a59-accc0d7656aa",
   "metadata": {},
   "outputs": [
    {
     "data": {
      "text/html": [
       "<div>\n",
       "<style scoped>\n",
       "    .dataframe tbody tr th:only-of-type {\n",
       "        vertical-align: middle;\n",
       "    }\n",
       "\n",
       "    .dataframe tbody tr th {\n",
       "        vertical-align: top;\n",
       "    }\n",
       "\n",
       "    .dataframe thead th {\n",
       "        text-align: right;\n",
       "    }\n",
       "</style>\n",
       "<table border=\"1\" class=\"dataframe\">\n",
       "  <thead>\n",
       "    <tr style=\"text-align: right;\">\n",
       "      <th></th>\n",
       "      <th>Lead Number</th>\n",
       "      <th>Converted</th>\n",
       "      <th>TotalVisits</th>\n",
       "      <th>Total Time Spent on Website</th>\n",
       "      <th>Page Views Per Visit</th>\n",
       "      <th>Asymmetrique Activity Score</th>\n",
       "      <th>Asymmetrique Profile Score</th>\n",
       "    </tr>\n",
       "  </thead>\n",
       "  <tbody>\n",
       "    <tr>\n",
       "      <th>count</th>\n",
       "      <td>9240.000000</td>\n",
       "      <td>9240.000000</td>\n",
       "      <td>9103.000000</td>\n",
       "      <td>9240.000000</td>\n",
       "      <td>9103.000000</td>\n",
       "      <td>5022.000000</td>\n",
       "      <td>5022.000000</td>\n",
       "    </tr>\n",
       "    <tr>\n",
       "      <th>mean</th>\n",
       "      <td>617188.435606</td>\n",
       "      <td>0.385390</td>\n",
       "      <td>3.445238</td>\n",
       "      <td>487.698268</td>\n",
       "      <td>2.362820</td>\n",
       "      <td>14.306252</td>\n",
       "      <td>16.344883</td>\n",
       "    </tr>\n",
       "    <tr>\n",
       "      <th>std</th>\n",
       "      <td>23405.995698</td>\n",
       "      <td>0.486714</td>\n",
       "      <td>4.854853</td>\n",
       "      <td>548.021466</td>\n",
       "      <td>2.161418</td>\n",
       "      <td>1.386694</td>\n",
       "      <td>1.811395</td>\n",
       "    </tr>\n",
       "    <tr>\n",
       "      <th>min</th>\n",
       "      <td>579533.000000</td>\n",
       "      <td>0.000000</td>\n",
       "      <td>0.000000</td>\n",
       "      <td>0.000000</td>\n",
       "      <td>0.000000</td>\n",
       "      <td>7.000000</td>\n",
       "      <td>11.000000</td>\n",
       "    </tr>\n",
       "    <tr>\n",
       "      <th>25%</th>\n",
       "      <td>596484.500000</td>\n",
       "      <td>0.000000</td>\n",
       "      <td>1.000000</td>\n",
       "      <td>12.000000</td>\n",
       "      <td>1.000000</td>\n",
       "      <td>14.000000</td>\n",
       "      <td>15.000000</td>\n",
       "    </tr>\n",
       "    <tr>\n",
       "      <th>50%</th>\n",
       "      <td>615479.000000</td>\n",
       "      <td>0.000000</td>\n",
       "      <td>3.000000</td>\n",
       "      <td>248.000000</td>\n",
       "      <td>2.000000</td>\n",
       "      <td>14.000000</td>\n",
       "      <td>16.000000</td>\n",
       "    </tr>\n",
       "    <tr>\n",
       "      <th>75%</th>\n",
       "      <td>637387.250000</td>\n",
       "      <td>1.000000</td>\n",
       "      <td>5.000000</td>\n",
       "      <td>936.000000</td>\n",
       "      <td>3.000000</td>\n",
       "      <td>15.000000</td>\n",
       "      <td>18.000000</td>\n",
       "    </tr>\n",
       "    <tr>\n",
       "      <th>max</th>\n",
       "      <td>660737.000000</td>\n",
       "      <td>1.000000</td>\n",
       "      <td>251.000000</td>\n",
       "      <td>2272.000000</td>\n",
       "      <td>55.000000</td>\n",
       "      <td>18.000000</td>\n",
       "      <td>20.000000</td>\n",
       "    </tr>\n",
       "  </tbody>\n",
       "</table>\n",
       "</div>"
      ],
      "text/plain": [
       "         Lead Number    Converted  TotalVisits  Total Time Spent on Website  \\\n",
       "count    9240.000000  9240.000000  9103.000000                  9240.000000   \n",
       "mean   617188.435606     0.385390     3.445238                   487.698268   \n",
       "std     23405.995698     0.486714     4.854853                   548.021466   \n",
       "min    579533.000000     0.000000     0.000000                     0.000000   \n",
       "25%    596484.500000     0.000000     1.000000                    12.000000   \n",
       "50%    615479.000000     0.000000     3.000000                   248.000000   \n",
       "75%    637387.250000     1.000000     5.000000                   936.000000   \n",
       "max    660737.000000     1.000000   251.000000                  2272.000000   \n",
       "\n",
       "       Page Views Per Visit  Asymmetrique Activity Score  \\\n",
       "count           9103.000000                  5022.000000   \n",
       "mean               2.362820                    14.306252   \n",
       "std                2.161418                     1.386694   \n",
       "min                0.000000                     7.000000   \n",
       "25%                1.000000                    14.000000   \n",
       "50%                2.000000                    14.000000   \n",
       "75%                3.000000                    15.000000   \n",
       "max               55.000000                    18.000000   \n",
       "\n",
       "       Asymmetrique Profile Score  \n",
       "count                 5022.000000  \n",
       "mean                    16.344883  \n",
       "std                      1.811395  \n",
       "min                     11.000000  \n",
       "25%                     15.000000  \n",
       "50%                     16.000000  \n",
       "75%                     18.000000  \n",
       "max                     20.000000  "
      ]
     },
     "execution_count": 7,
     "metadata": {},
     "output_type": "execute_result"
    }
   ],
   "source": [
    "leads_data.describe()"
   ]
  },
  {
   "cell_type": "code",
   "execution_count": 11,
   "id": "428257a7-921b-4350-bb18-20e93917df83",
   "metadata": {},
   "outputs": [
    {
     "data": {
      "text/plain": [
       "0"
      ]
     },
     "execution_count": 11,
     "metadata": {},
     "output_type": "execute_result"
    }
   ],
   "source": [
    "# Check for any duplicate values\n",
    "leads_data.duplicated().sum()"
   ]
  },
  {
   "cell_type": "code",
   "execution_count": 33,
   "id": "61d38ff6-9f1c-4e54-9884-bd0cc0bb164a",
   "metadata": {},
   "outputs": [
    {
     "data": {
      "text/plain": [
       "Prospect ID                                      9240\n",
       "Lead Number                                      9240\n",
       "Lead Origin                                         5\n",
       "Lead Source                                        21\n",
       "Do Not Email                                        2\n",
       "Do Not Call                                         2\n",
       "Converted                                           2\n",
       "TotalVisits                                        41\n",
       "Total Time Spent on Website                      1731\n",
       "Page Views Per Visit                              114\n",
       "Last Activity                                      17\n",
       "Country                                            38\n",
       "Specialization                                     19\n",
       "How did you hear about X Education                 10\n",
       "What is your current occupation                     6\n",
       "What matters most to you in choosing a course       3\n",
       "Search                                              2\n",
       "Magazine                                            1\n",
       "Newspaper Article                                   2\n",
       "X Education Forums                                  2\n",
       "Newspaper                                           2\n",
       "Digital Advertisement                               2\n",
       "Through Recommendations                             2\n",
       "Receive More Updates About Our Courses              1\n",
       "Tags                                               26\n",
       "Lead Quality                                        5\n",
       "Update me on Supply Chain Content                   1\n",
       "Get updates on DM Content                           1\n",
       "Lead Profile                                        6\n",
       "City                                                7\n",
       "Asymmetrique Activity Index                         3\n",
       "Asymmetrique Profile Index                          3\n",
       "Asymmetrique Activity Score                        12\n",
       "Asymmetrique Profile Score                         10\n",
       "I agree to pay the amount through cheque            1\n",
       "A free copy of Mastering The Interview              2\n",
       "Last Notable Activity                              16\n",
       "dtype: int64"
      ]
     },
     "execution_count": 33,
     "metadata": {},
     "output_type": "execute_result"
    }
   ],
   "source": [
    "#Find the no. of unique values in every column\n",
    "leads_data.nunique()"
   ]
  },
  {
   "cell_type": "markdown",
   "id": "74c0ebb7-971c-4be4-ade9-60dadc9113e6",
   "metadata": {},
   "source": [
    "**Observation**: Some of the columns have just 1 unique value. So their presence or absence is not going to be a factor in our analysis."
   ]
  },
  {
   "cell_type": "markdown",
   "id": "6052cbad-774d-4561-b383-a78be37cac19",
   "metadata": {},
   "source": [
    "### Handle columns that have only unique values\n",
    "\n",
    "We can remove the columns `Prospect ID` and `Lead Number` as they have no use in our analysis"
   ]
  },
  {
   "cell_type": "code",
   "execution_count": 170,
   "id": "efe23470-350d-4b3d-8ea3-98befe6ecb10",
   "metadata": {},
   "outputs": [],
   "source": [
    "# Lead Number Dropping and Prospect ID since they have all unique values\n",
    "\n",
    "leads_data.drop(['Prospect ID', 'Lead Number'], axis=1, inplace = True)"
   ]
  },
  {
   "cell_type": "markdown",
   "id": "54f6ed49-8258-4343-8844-1a6aab7f9758",
   "metadata": {},
   "source": [
    "### Handle columns that have just 1 value\n",
    "\n",
    "`Magazine`, `Newspaper Article`, `Receive More Updates About Our Courses`, `Update me on Supply Chain Content`, `Get updates on DM Content`, `I agree to pay the amount through cheque`"
   ]
  },
  {
   "cell_type": "code",
   "execution_count": 172,
   "id": "71a7219f-f881-4e54-9f33-2c8f3499af95",
   "metadata": {},
   "outputs": [
    {
     "name": "stdout",
     "output_type": "stream",
     "text": [
      "No    9240\n",
      "Name: Magazine, dtype: int64\n",
      "No     9238\n",
      "Yes       2\n",
      "Name: Newspaper Article, dtype: int64\n",
      "No    9240\n",
      "Name: Receive More Updates About Our Courses, dtype: int64\n",
      "No    9240\n",
      "Name: Update me on Supply Chain Content, dtype: int64\n",
      "No    9240\n",
      "Name: Get updates on DM Content, dtype: int64\n",
      "No    9240\n",
      "Name: I agree to pay the amount through cheque, dtype: int64\n"
     ]
    }
   ],
   "source": [
    "print(leads_data.Magazine.value_counts())\n",
    "print(leads_data['Newspaper Article'].value_counts())\n",
    "print(leads_data['Receive More Updates About Our Courses'].value_counts())\n",
    "print(leads_data['Update me on Supply Chain Content'].value_counts())\n",
    "print(leads_data['Get updates on DM Content'].value_counts())\n",
    "print(leads_data['I agree to pay the amount through cheque'].value_counts())"
   ]
  },
  {
   "cell_type": "code",
   "execution_count": 173,
   "id": "e49e5ecb-5921-4086-8677-9378d9965d1e",
   "metadata": {},
   "outputs": [
    {
     "name": "stdout",
     "output_type": "stream",
     "text": [
      "Shape after dropping (9240, 29)\n"
     ]
    }
   ],
   "source": [
    "# Since all these columns have just 1 unique value, they are not going to impact our analysis. Thus, we can drop them.\n",
    "\n",
    "columns_with_single_value = ['Magazine', 'Newspaper Article', 'Receive More Updates About Our Courses', 'Update me on Supply Chain Content', 'Get updates on DM Content', 'I agree to pay the amount through cheque']\n",
    "\n",
    "leads_data.drop(columns_with_single_value, axis=1, inplace=True)\n",
    "\n",
    "print('Shape after dropping', leads_data.shape)"
   ]
  },
  {
   "cell_type": "markdown",
   "id": "8e8e4abe-8485-4109-aecb-457249d0f905",
   "metadata": {},
   "source": [
    "### Analyze columns with missing values"
   ]
  },
  {
   "cell_type": "code",
   "execution_count": 174,
   "id": "2caa0017-f638-45d2-b6f6-21adac662a70",
   "metadata": {},
   "outputs": [
    {
     "data": {
      "text/plain": [
       "Lead Origin                                         0\n",
       "Lead Source                                        36\n",
       "Do Not Email                                        0\n",
       "Do Not Call                                         0\n",
       "Converted                                           0\n",
       "TotalVisits                                       137\n",
       "Total Time Spent on Website                         0\n",
       "Page Views Per Visit                              137\n",
       "Last Activity                                     103\n",
       "Country                                          2461\n",
       "Specialization                                   1438\n",
       "How did you hear about X Education               2207\n",
       "What is your current occupation                  2690\n",
       "What matters most to you in choosing a course    2709\n",
       "Search                                              0\n",
       "X Education Forums                                  0\n",
       "Newspaper                                           0\n",
       "Digital Advertisement                               0\n",
       "Through Recommendations                             0\n",
       "Tags                                             3353\n",
       "Lead Quality                                     4767\n",
       "Lead Profile                                     2709\n",
       "City                                             1420\n",
       "Asymmetrique Activity Index                      4218\n",
       "Asymmetrique Profile Index                       4218\n",
       "Asymmetrique Activity Score                      4218\n",
       "Asymmetrique Profile Score                       4218\n",
       "A free copy of Mastering The Interview              0\n",
       "Last Notable Activity                               0\n",
       "dtype: int64"
      ]
     },
     "execution_count": 174,
     "metadata": {},
     "output_type": "execute_result"
    }
   ],
   "source": [
    "leads_data.isnull().sum()"
   ]
  },
  {
   "cell_type": "code",
   "execution_count": 175,
   "id": "2f88764a-df81-43fe-9a85-46c8eb19db5a",
   "metadata": {},
   "outputs": [
    {
     "data": {
      "text/plain": [
       "Lead Quality                                     51.59\n",
       "Asymmetrique Profile Score                       45.65\n",
       "Asymmetrique Activity Score                      45.65\n",
       "Asymmetrique Activity Index                      45.65\n",
       "Asymmetrique Profile Index                       45.65\n",
       "Tags                                             36.29\n",
       "Lead Profile                                     29.32\n",
       "What matters most to you in choosing a course    29.32\n",
       "What is your current occupation                  29.11\n",
       "Country                                          26.63\n",
       "How did you hear about X Education               23.89\n",
       "Specialization                                   15.56\n",
       "City                                             15.37\n",
       "Page Views Per Visit                              1.48\n",
       "TotalVisits                                       1.48\n",
       "Last Activity                                     1.11\n",
       "Lead Source                                       0.39\n",
       "A free copy of Mastering The Interview            0.00\n",
       "Lead Origin                                       0.00\n",
       "Search                                            0.00\n",
       "Through Recommendations                           0.00\n",
       "Digital Advertisement                             0.00\n",
       "Newspaper                                         0.00\n",
       "X Education Forums                                0.00\n",
       "Total Time Spent on Website                       0.00\n",
       "Converted                                         0.00\n",
       "Do Not Call                                       0.00\n",
       "Do Not Email                                      0.00\n",
       "Last Notable Activity                             0.00\n",
       "dtype: float64"
      ]
     },
     "execution_count": 175,
     "metadata": {},
     "output_type": "execute_result"
    }
   ],
   "source": [
    "# What is the percentage of missing values\n",
    "round(leads_data.isnull().mean() * 100, 2).sort_values(ascending = False)"
   ]
  },
  {
   "cell_type": "markdown",
   "id": "92cd719a-3b35-4ad3-bc1f-f11436863f46",
   "metadata": {},
   "source": [
    "#### Replace all values labelled \"select\" with NA values, and re-check null value count\n",
    "\n",
    "We've been told that several of the categorical variables have a value 'Select'. That means that they were probably in a form or survey and were not filled.\n",
    "\n",
    "So they can be considered as null values."
   ]
  },
  {
   "cell_type": "code",
   "execution_count": 176,
   "id": "018b20a9-c508-46aa-a8ea-0afed4083463",
   "metadata": {},
   "outputs": [
    {
     "data": {
      "text/plain": [
       "How did you hear about X Education               78.46\n",
       "Lead Profile                                     74.19\n",
       "Lead Quality                                     51.59\n",
       "Asymmetrique Profile Score                       45.65\n",
       "Asymmetrique Activity Score                      45.65\n",
       "Asymmetrique Profile Index                       45.65\n",
       "Asymmetrique Activity Index                      45.65\n",
       "City                                             39.71\n",
       "Specialization                                   36.58\n",
       "Tags                                             36.29\n",
       "What matters most to you in choosing a course    29.32\n",
       "What is your current occupation                  29.11\n",
       "Country                                          26.63\n",
       "Page Views Per Visit                              1.48\n",
       "TotalVisits                                       1.48\n",
       "Last Activity                                     1.11\n",
       "Lead Source                                       0.39\n",
       "A free copy of Mastering The Interview            0.00\n",
       "Lead Origin                                       0.00\n",
       "Search                                            0.00\n",
       "Through Recommendations                           0.00\n",
       "Digital Advertisement                             0.00\n",
       "Newspaper                                         0.00\n",
       "X Education Forums                                0.00\n",
       "Total Time Spent on Website                       0.00\n",
       "Converted                                         0.00\n",
       "Do Not Call                                       0.00\n",
       "Do Not Email                                      0.00\n",
       "Last Notable Activity                             0.00\n",
       "dtype: float64"
      ]
     },
     "execution_count": 176,
     "metadata": {},
     "output_type": "execute_result"
    }
   ],
   "source": [
    "leads_data = leads_data.replace('Select', np.nan)\n",
    "round(leads_data.isnull().mean() * 100, 2).sort_values(ascending = False)"
   ]
  },
  {
   "cell_type": "markdown",
   "id": "9cd63c70-8f2b-4891-9f7b-accdebc41bd3",
   "metadata": {},
   "source": [
    "**Observation**: There are a lot of categorical variables with lots of missing values. Let's look at the columns individually to see what's the best way to handle them:"
   ]
  },
  {
   "cell_type": "markdown",
   "id": "2fbd79ca-451a-4e17-932d-fc81802aced4",
   "metadata": {},
   "source": [
    "### Drop columns with high percentages of null values\n",
    "\n",
    "- `Lead Quality`\n",
    "- `Asymmetrique Profile Score`\n",
    "- `Asymmetrique Activity Score`\n",
    "- `Asymmetrique Activity Index`\n",
    "- `Asymmetrique Profile Index`"
   ]
  },
  {
   "cell_type": "code",
   "execution_count": 177,
   "id": "cdf225ba-bc1e-4546-93b7-15798f98bb55",
   "metadata": {},
   "outputs": [
    {
     "name": "stdout",
     "output_type": "stream",
     "text": [
      "Data after dropping: (9240, 22)\n"
     ]
    }
   ],
   "source": [
    "columns_to_drop = ['How did you hear about X Education', 'Lead Profile', 'Lead Quality', 'Asymmetrique Profile Score', 'Asymmetrique Activity Score', 'Asymmetrique Activity Index', 'Asymmetrique Profile Index']\n",
    "leads_data.drop(columns_to_drop, axis=1, inplace = True)\n",
    "print('Data after dropping:', leads_data.shape)"
   ]
  },
  {
   "cell_type": "markdown",
   "id": "69e224ca-cdf0-4627-bd24-ff5a198e7616",
   "metadata": {},
   "source": [
    "### Understand the significance of other columns and handle them"
   ]
  },
  {
   "cell_type": "markdown",
   "id": "722ef784-a29b-4a10-bd63-bbc7c3659e8b",
   "metadata": {
    "tags": []
   },
   "source": [
    "#### Tags"
   ]
  },
  {
   "cell_type": "code",
   "execution_count": 178,
   "id": "13459f94-3116-4798-9628-bc81e64c921a",
   "metadata": {},
   "outputs": [
    {
     "data": {
      "text/plain": [
       "Will revert after reading the email                  2072\n",
       "Ringing                                              1203\n",
       "Interested in other courses                           513\n",
       "Already a student                                     465\n",
       "Closed by Horizzon                                    358\n",
       "switched off                                          240\n",
       "Busy                                                  186\n",
       "Lost to EINS                                          175\n",
       "Not doing further education                           145\n",
       "Interested  in full time MBA                          117\n",
       "Graduation in progress                                111\n",
       "invalid number                                         83\n",
       "Diploma holder (Not Eligible)                          63\n",
       "wrong number given                                     47\n",
       "opp hangup                                             33\n",
       "number not provided                                    27\n",
       "in touch with EINS                                     12\n",
       "Lost to Others                                          7\n",
       "Still Thinking                                          6\n",
       "Want to take admission but has financial problems       6\n",
       "In confusion whether part time or DLP                   5\n",
       "Interested in Next batch                                5\n",
       "Lateral student                                         3\n",
       "Shall take in the next coming month                     2\n",
       "University not recognized                               2\n",
       "Recognition issue (DEC approval)                        1\n",
       "Name: Tags, dtype: int64"
      ]
     },
     "execution_count": 178,
     "metadata": {},
     "output_type": "execute_result"
    }
   ],
   "source": [
    "leads_data['Tags'].value_counts()"
   ]
  },
  {
   "cell_type": "markdown",
   "id": "2dfa06c5-d832-4f02-a1a8-e4308d86ad16",
   "metadata": {},
   "source": [
    "**Observation**: Judging by the fact that this column also contains a high number of missing values, and the info is something that won't be readily available while contacting a lead initially, we could consider dropping them."
   ]
  },
  {
   "cell_type": "code",
   "execution_count": 179,
   "id": "ce9cb527-065f-44b1-ad11-de40f8213112",
   "metadata": {},
   "outputs": [],
   "source": [
    "leads_data.drop(['Tags'], axis=1, inplace = True)"
   ]
  },
  {
   "cell_type": "markdown",
   "id": "5ea5709b-6a72-4218-a846-d02b1d38d696",
   "metadata": {},
   "source": [
    "#### What matters most to you in choosing a course"
   ]
  },
  {
   "cell_type": "code",
   "execution_count": 180,
   "id": "b31613a0-1763-46d4-ab28-c87328616e9d",
   "metadata": {},
   "outputs": [
    {
     "data": {
      "text/plain": [
       "Better Career Prospects      0.999541\n",
       "Flexibility & Convenience    0.000306\n",
       "Other                        0.000153\n",
       "Name: What matters most to you in choosing a course, dtype: float64"
      ]
     },
     "execution_count": 180,
     "metadata": {},
     "output_type": "execute_result"
    }
   ],
   "source": [
    "leads_data['What matters most to you in choosing a course'].value_counts(normalize=True)"
   ]
  },
  {
   "cell_type": "markdown",
   "id": "ea2626ee-ecc0-47ed-8d5b-7ba5557cc279",
   "metadata": {},
   "source": [
    "**Observation:** 99% of data just has one label, so we can drop this column."
   ]
  },
  {
   "cell_type": "code",
   "execution_count": 181,
   "id": "dbb68217-a1de-4bd8-b6f2-0d579de9bd45",
   "metadata": {},
   "outputs": [
    {
     "data": {
      "text/plain": [
       "(9240, 20)"
      ]
     },
     "execution_count": 181,
     "metadata": {},
     "output_type": "execute_result"
    }
   ],
   "source": [
    "leads_data.drop(['What matters most to you in choosing a course'], axis=1, inplace = True)\n",
    "leads_data.shape"
   ]
  },
  {
   "cell_type": "markdown",
   "id": "6f957eb9-6b67-4600-a822-719bf5a456f0",
   "metadata": {},
   "source": [
    "#### City and country"
   ]
  },
  {
   "cell_type": "code",
   "execution_count": 182,
   "id": "8396cb75-8145-496c-91f2-0a3a13700066",
   "metadata": {},
   "outputs": [
    {
     "name": "stdout",
     "output_type": "stream",
     "text": [
      "India                   0.957663\n",
      "United States           0.010178\n",
      "United Arab Emirates    0.007818\n",
      "Singapore               0.003540\n",
      "Saudi Arabia            0.003098\n",
      "United Kingdom          0.002213\n",
      "Australia               0.001918\n",
      "Qatar                   0.001475\n",
      "Hong Kong               0.001033\n",
      "Bahrain                 0.001033\n",
      "Oman                    0.000885\n",
      "France                  0.000885\n",
      "unknown                 0.000738\n",
      "South Africa            0.000590\n",
      "Nigeria                 0.000590\n",
      "Germany                 0.000590\n",
      "Kuwait                  0.000590\n",
      "Canada                  0.000590\n",
      "Sweden                  0.000443\n",
      "China                   0.000295\n",
      "Asia/Pacific Region     0.000295\n",
      "Uganda                  0.000295\n",
      "Bangladesh              0.000295\n",
      "Italy                   0.000295\n",
      "Belgium                 0.000295\n",
      "Netherlands             0.000295\n",
      "Ghana                   0.000295\n",
      "Philippines             0.000295\n",
      "Russia                  0.000148\n",
      "Switzerland             0.000148\n",
      "Vietnam                 0.000148\n",
      "Denmark                 0.000148\n",
      "Tanzania                0.000148\n",
      "Liberia                 0.000148\n",
      "Malaysia                0.000148\n",
      "Kenya                   0.000148\n",
      "Sri Lanka               0.000148\n",
      "Indonesia               0.000148\n",
      "Name: Country, dtype: float64\n"
     ]
    }
   ],
   "source": [
    "print(leads_data['Country'].value_counts(normalize=True))"
   ]
  },
  {
   "cell_type": "code",
   "execution_count": 183,
   "id": "bad7a28f-ec21-4327-8015-051d2bab6cd2",
   "metadata": {},
   "outputs": [
    {
     "name": "stdout",
     "output_type": "stream",
     "text": [
      "Mumbai                         0.578352\n",
      "Thane & Outskirts              0.134985\n",
      "Other Cities                   0.123138\n",
      "Other Cities of Maharashtra    0.082032\n",
      "Other Metro Cities             0.068210\n",
      "Tier II Cities                 0.013283\n",
      "Name: City, dtype: float64\n"
     ]
    }
   ],
   "source": [
    "print(leads_data['City'].value_counts(normalize=True))"
   ]
  },
  {
   "cell_type": "markdown",
   "id": "73526475-e22e-46c1-932f-54cd453c7d64",
   "metadata": {},
   "source": [
    "**Observations**:\n",
    "    \n",
    "- Most of the country info is just either India, or is simply not available.\n",
    "- With city too, most of the city values are either Mumbai or not available.\n",
    "\n",
    "Moreover, given that this is online education, the location would have little bearing on the lead generation. So we can just drop this column as it may not be useful for our model building. "
   ]
  },
  {
   "cell_type": "code",
   "execution_count": 184,
   "id": "b4f0523a-aef0-49b1-bc81-6eec232c743f",
   "metadata": {},
   "outputs": [],
   "source": [
    "leads_data.drop(['Country'], axis=1, inplace = True)\n",
    "leads_data.drop(['City'], axis=1, inplace = True)"
   ]
  },
  {
   "cell_type": "markdown",
   "id": "36128a0c-3a5f-4fff-850e-c06bb37a0330",
   "metadata": {},
   "source": [
    "#### Search, Newspaper, Digital Advertisement, X Education Forums"
   ]
  },
  {
   "cell_type": "code",
   "execution_count": 185,
   "id": "65007db5-74b0-41c8-9fbf-787e60be188a",
   "metadata": {},
   "outputs": [
    {
     "data": {
      "text/plain": [
       "No     0.998485\n",
       "Yes    0.001515\n",
       "Name: Search, dtype: float64"
      ]
     },
     "execution_count": 185,
     "metadata": {},
     "output_type": "execute_result"
    }
   ],
   "source": [
    "leads_data['Search'].value_counts(normalize=True)"
   ]
  },
  {
   "cell_type": "code",
   "execution_count": 186,
   "id": "23156cf9-c1c3-4539-a5f0-a01a6bac2b89",
   "metadata": {},
   "outputs": [
    {
     "data": {
      "text/plain": [
       "No     0.999242\n",
       "Yes    0.000758\n",
       "Name: Through Recommendations, dtype: float64"
      ]
     },
     "execution_count": 186,
     "metadata": {},
     "output_type": "execute_result"
    }
   ],
   "source": [
    "leads_data['Through Recommendations'].value_counts(normalize=True)"
   ]
  },
  {
   "cell_type": "code",
   "execution_count": 187,
   "id": "9adf1f9a-23cf-4f36-81ce-70bbe9a60df5",
   "metadata": {},
   "outputs": [
    {
     "data": {
      "text/plain": [
       "No     0.999892\n",
       "Yes    0.000108\n",
       "Name: Newspaper, dtype: float64"
      ]
     },
     "execution_count": 187,
     "metadata": {},
     "output_type": "execute_result"
    }
   ],
   "source": [
    "leads_data['Newspaper'].value_counts(normalize=True)"
   ]
  },
  {
   "cell_type": "code",
   "execution_count": 188,
   "id": "8ea46528-9ba3-434d-b52d-813e76a6dbb1",
   "metadata": {},
   "outputs": [
    {
     "data": {
      "text/plain": [
       "No     0.999567\n",
       "Yes    0.000433\n",
       "Name: Digital Advertisement, dtype: float64"
      ]
     },
     "execution_count": 188,
     "metadata": {},
     "output_type": "execute_result"
    }
   ],
   "source": [
    "leads_data['Digital Advertisement'].value_counts(normalize=True)"
   ]
  },
  {
   "cell_type": "code",
   "execution_count": 189,
   "id": "10746ac9-cc04-43cf-9057-dd4b09cb78cf",
   "metadata": {},
   "outputs": [
    {
     "data": {
      "text/plain": [
       "No     0.999892\n",
       "Yes    0.000108\n",
       "Name: X Education Forums, dtype: float64"
      ]
     },
     "execution_count": 189,
     "metadata": {},
     "output_type": "execute_result"
    }
   ],
   "source": [
    "leads_data['X Education Forums'].value_counts(normalize=True)"
   ]
  },
  {
   "cell_type": "markdown",
   "id": "d0dbc4ac-465f-4103-83f3-93382f6a4b71",
   "metadata": {},
   "source": [
    "**Observation**: The values are highly imbalanced, so we'll drop all the above columns"
   ]
  },
  {
   "cell_type": "code",
   "execution_count": 190,
   "id": "feaa7cca-0d6d-4ce5-ae0b-7ddb975c38db",
   "metadata": {},
   "outputs": [],
   "source": [
    "leads_data.drop(['Search', 'Through Recommendations', 'Newspaper', 'Digital Advertisement', 'X Education Forums'], axis=1, inplace = True)"
   ]
  },
  {
   "cell_type": "markdown",
   "id": "67cef6be-b4f8-46e8-b177-fa163e2a2a91",
   "metadata": {},
   "source": [
    "#### Fill NA values for other categorical columns"
   ]
  },
  {
   "cell_type": "code",
   "execution_count": 191,
   "id": "8568a7da-0582-43a9-914e-60bc511ff5f9",
   "metadata": {},
   "outputs": [
    {
     "data": {
      "text/plain": [
       "Email Opened                    3437\n",
       "SMS Sent                        2745\n",
       "Olark Chat Conversation          973\n",
       "Page Visited on Website          640\n",
       "Converted to Lead                428\n",
       "Email Bounced                    326\n",
       "Email Link Clicked               267\n",
       "Form Submitted on Website        116\n",
       "Unreachable                       93\n",
       "Unsubscribed                      61\n",
       "Had a Phone Conversation          30\n",
       "Approached upfront                 9\n",
       "View in browser link Clicked       6\n",
       "Email Received                     2\n",
       "Email Marked Spam                  2\n",
       "Visited Booth in Tradeshow         1\n",
       "Resubscribed to emails             1\n",
       "Name: Last Activity, dtype: int64"
      ]
     },
     "execution_count": 191,
     "metadata": {},
     "output_type": "execute_result"
    }
   ],
   "source": [
    "leads_data['Last Activity'].value_counts()"
   ]
  },
  {
   "cell_type": "code",
   "execution_count": 193,
   "id": "b60e5881-572f-42db-9569-0b1023aa08a9",
   "metadata": {},
   "outputs": [
    {
     "data": {
      "text/plain": [
       "TotalVisits                               1.48\n",
       "Page Views Per Visit                      1.48\n",
       "Lead Origin                               0.00\n",
       "Lead Source                               0.00\n",
       "Do Not Email                              0.00\n",
       "Do Not Call                               0.00\n",
       "Converted                                 0.00\n",
       "Total Time Spent on Website               0.00\n",
       "Last Activity                             0.00\n",
       "Specialization                            0.00\n",
       "What is your current occupation           0.00\n",
       "A free copy of Mastering The Interview    0.00\n",
       "Last Notable Activity                     0.00\n",
       "dtype: float64"
      ]
     },
     "execution_count": 193,
     "metadata": {},
     "output_type": "execute_result"
    }
   ],
   "source": [
    "leads_data['Specialization'] = leads_data['Specialization'].fillna('NA')\n",
    "leads_data['What is your current occupation'] = leads_data['What is your current occupation'].fillna('NA')\n",
    "leads_data['Last Activity'] = leads_data['Last Activity'].fillna('NA')\n",
    "leads_data['Lead Source'] = leads_data['Last Activity'].fillna('NA')\n",
    "\n",
    "# re-check null values again\n",
    "round(leads_data.isnull().mean() * 100, 2).sort_values(ascending = False)"
   ]
  },
  {
   "cell_type": "markdown",
   "id": "a54ae7ba-6f78-4b43-b806-095e020f2e0a",
   "metadata": {},
   "source": [
    "**Observation:** Since the number of null records are fairly small, it will be easier if we just dropped them"
   ]
  },
  {
   "cell_type": "code",
   "execution_count": 194,
   "id": "4c536275-2e93-4f37-b696-6a04f39bb120",
   "metadata": {},
   "outputs": [],
   "source": [
    "leads_data = leads_data[~leads_data['TotalVisits'].isnull()]\n",
    "leads_data = leads_data[~leads_data['Page Views Per Visit'].isnull()]"
   ]
  },
  {
   "cell_type": "code",
   "execution_count": 195,
   "id": "b8737742-acef-4b5a-ac1d-101e2ae003d2",
   "metadata": {},
   "outputs": [
    {
     "name": "stdout",
     "output_type": "stream",
     "text": [
      "Lead Origin                               0\n",
      "Lead Source                               0\n",
      "Do Not Email                              0\n",
      "Do Not Call                               0\n",
      "Converted                                 0\n",
      "TotalVisits                               0\n",
      "Total Time Spent on Website               0\n",
      "Page Views Per Visit                      0\n",
      "Last Activity                             0\n",
      "Specialization                            0\n",
      "What is your current occupation           0\n",
      "A free copy of Mastering The Interview    0\n",
      "Last Notable Activity                     0\n",
      "dtype: int64\n",
      "(9103, 13)\n"
     ]
    }
   ],
   "source": [
    "print(leads_data.isnull().sum())\n",
    "print(leads_data.shape)"
   ]
  },
  {
   "cell_type": "markdown",
   "id": "d307d2c2-b0a2-4a7c-8b9b-aeaebde21d1e",
   "metadata": {},
   "source": [
    "### Check for outliers in numerical columns\n",
    "\n",
    "`TotalVisits`, `Total Time Spent on Website`, `Page Views Per Visit` "
   ]
  },
  {
   "cell_type": "code",
   "execution_count": 196,
   "id": "07a1bf3b-9f70-4993-b78f-93c1a8249f3e",
   "metadata": {},
   "outputs": [
    {
     "data": {
      "image/png": "[encoded data removed]",
      "text/plain": [
       "<Figure size 2000x400 with 1 Axes>"
      ]
     },
     "metadata": {},
     "output_type": "display_data"
    }
   ],
   "source": [
    "plt.figure(figsize=[20,4])\n",
    "plt.boxplot(leads_data['Total Time Spent on Website'], vert=False)\n",
    "plt.show()"
   ]
  },
  {
   "cell_type": "code",
   "execution_count": 197,
   "id": "5a7c8bcb-281d-445c-a02d-d8bbf3d8801b",
   "metadata": {},
   "outputs": [
    {
     "data": {
      "image/png": "[encoded data removed]",
      "text/plain": [
       "<Figure size 2000x400 with 1 Axes>"
      ]
     },
     "metadata": {},
     "output_type": "display_data"
    }
   ],
   "source": [
    "plt.figure(figsize=[20,4])\n",
    "plt.boxplot(leads_data['TotalVisits'], vert=False)\n",
    "plt.show()"
   ]
  },
  {
   "cell_type": "code",
   "execution_count": 198,
   "id": "1901c75a-4d20-4db2-8f9e-ff9bf77cfd59",
   "metadata": {},
   "outputs": [
    {
     "data": {
      "image/png": "[encoded data removed]",
      "text/plain": [
       "<Figure size 2000x400 with 1 Axes>"
      ]
     },
     "metadata": {},
     "output_type": "display_data"
    }
   ],
   "source": [
    "plt.figure(figsize=[20,4])\n",
    "plt.boxplot(leads_data['Page Views Per Visit'], vert=False)\n",
    "plt.show()"
   ]
  },
  {
   "cell_type": "markdown",
   "id": "10bc9dc1-9bb1-431e-9fb1-2e1711c98b21",
   "metadata": {},
   "source": [
    "**Observation:**\n",
    "\n",
    "There are some outliers for the columns `TotalVisits` and `Page Views Per Visit`. We'll analyze later how best to handle them."
   ]
  },
  {
   "cell_type": "markdown",
   "id": "ba6ef1d9-2de7-4387-9553-b65b867ed9ad",
   "metadata": {},
   "source": [
    "### Convert binary variables into 0 / 1"
   ]
  },
  {
   "cell_type": "code",
   "execution_count": 199,
   "id": "d2b5ca5b-41c9-446c-9467-5fdac047ac3c",
   "metadata": {},
   "outputs": [],
   "source": [
    "# List of variables to map\n",
    "\n",
    "binary_columns =  ['Do Not Email', 'Do Not Call', 'A free copy of Mastering The Interview']\n",
    "\n",
    "# Defining the map function\n",
    "def binary_map(x):\n",
    "    return x.map({'Yes': 1, \"No\": 0})\n",
    "\n",
    "# Applying the function to the housing list\n",
    "leads_data[binary_columns] = leads_data[binary_columns].apply(binary_map)"
   ]
  },
  {
   "cell_type": "markdown",
   "id": "cebc09bd-1a73-46bb-ba3a-e3601a4a61b7",
   "metadata": {},
   "source": [
    "## Lead demographics"
   ]
  },
  {
   "cell_type": "markdown",
   "id": "b060fff0-1110-4354-b189-901d9c1baaa0",
   "metadata": {},
   "source": [
    "### Lead origin"
   ]
  },
  {
   "cell_type": "code",
   "execution_count": 200,
   "id": "36f1a452-579f-49a1-9be2-5891d47469c8",
   "metadata": {},
   "outputs": [
    {
     "data": {
      "image/png": "[encoded data removed]",
      "text/plain": [
       "<Figure size 640x480 with 1 Axes>"
      ]
     },
     "metadata": {},
     "output_type": "display_data"
    }
   ],
   "source": [
    "leads_data['Lead Origin'].value_counts(normalize=True).plot.barh()\n",
    "plt.show()"
   ]
  },
  {
   "cell_type": "markdown",
   "id": "810882fe-b604-42d0-ac06-1c6bfa5a3958",
   "metadata": {},
   "source": [
    "**Insight**: Most leads originate from the submission on the landing page"
   ]
  },
  {
   "cell_type": "markdown",
   "id": "4e549d8d-d8c7-4e56-8137-871725a15929",
   "metadata": {},
   "source": [
    "### Lead sources"
   ]
  },
  {
   "cell_type": "code",
   "execution_count": 201,
   "id": "8a6d2d0c-3b41-416a-b601-42dd2a06b6d8",
   "metadata": {},
   "outputs": [
    {
     "data": {
      "image/png": "[encoded data removed]",
      "text/plain": [
       "<Figure size 1500x500 with 1 Axes>"
      ]
     },
     "metadata": {},
     "output_type": "display_data"
    }
   ],
   "source": [
    "plt.figure(figsize=[15,5])\n",
    "ax = sns.histplot(y='Lead Source', data=leads_data, stat=\"percent\", shrink=0.5)\n",
    "ax.bar_label(ax.containers[1])\n",
    "plt.show()"
   ]
  },
  {
   "cell_type": "markdown",
   "id": "a82a06a1-eccf-4312-9eb3-9c6c8fe7209a",
   "metadata": {},
   "source": [
    "**Insight:**: SMSes and emails are the most used channels for sourcing leads"
   ]
  },
  {
   "cell_type": "markdown",
   "id": "0a01a5a3-83ba-48cf-b6a7-9b414ff6c74b",
   "metadata": {},
   "source": [
    "### Email and call preferences"
   ]
  },
  {
   "cell_type": "code",
   "execution_count": 202,
   "id": "7def0067-7f76-4af6-9a2b-d8014bc8cbe8",
   "metadata": {},
   "outputs": [
    {
     "data": {
      "image/png": "[encoded data removed]",
      "text/plain": [
       "<Figure size 1500x300 with 2 Axes>"
      ]
     },
     "metadata": {},
     "output_type": "display_data"
    }
   ],
   "source": [
    "plt.figure(figsize=[15,3])\n",
    "\n",
    "plt.subplot(1,2,1)\n",
    "leads_data['Do Not Email'].value_counts(normalize=True).plot.pie(autopct='%.3f')\n",
    "\n",
    "plt.subplot(1,2,2)\n",
    "leads_data['Do Not Call'].value_counts(normalize=True).plot.pie(autopct='%.3f')\n",
    "\n",
    "plt.show()"
   ]
  },
  {
   "cell_type": "markdown",
   "id": "85220202-26c1-47f9-b98d-aa20ad118a60",
   "metadata": {},
   "source": [
    "**Insight**:\n",
    "    \n",
    "Most people are okay with getting emails and phone calls."
   ]
  },
  {
   "cell_type": "markdown",
   "id": "418d972a-c4ff-4e55-a78d-bff5e107e030",
   "metadata": {},
   "source": [
    "## Observing correlations between features"
   ]
  },
  {
   "cell_type": "markdown",
   "id": "60c1eca4-6a53-4113-844f-745a25a8b5f8",
   "metadata": {},
   "source": [
    "### Email and call preferences vs Conversions"
   ]
  },
  {
   "cell_type": "code",
   "execution_count": 203,
   "id": "4c42cf98-7be5-4f25-bbe6-a88533e60736",
   "metadata": {},
   "outputs": [
    {
     "data": {
      "text/plain": [
       "0    5642\n",
       "1    3461\n",
       "Name: Converted, dtype: int64"
      ]
     },
     "execution_count": 203,
     "metadata": {},
     "output_type": "execute_result"
    }
   ],
   "source": [
    "leads_data.Converted.value_counts()"
   ]
  },
  {
   "cell_type": "code",
   "execution_count": 204,
   "id": "f7a5a8b9-99ba-46c3-b745-9b9524826cae",
   "metadata": {},
   "outputs": [
    {
     "data": {
      "image/png": "[encoded data removed]",
      "text/plain": [
       "<Figure size 1500x1500 with 2 Axes>"
      ]
     },
     "metadata": {},
     "output_type": "display_data"
    }
   ],
   "source": [
    "plt.figure(figsize=[15,15])\n",
    "\n",
    "plt.subplot(2,3,1)\n",
    "sns.boxplot(x = 'Do Not Email', y = 'Converted', data = leads_data)\n",
    "\n",
    "plt.subplot(2,3,2)\n",
    "sns.boxplot(x = 'Do Not Call', y = 'Converted', data = leads_data)\n",
    "\n",
    "plt.show()"
   ]
  },
  {
   "cell_type": "markdown",
   "id": "329aedc9-14f3-4358-a63b-842bc37ba949",
   "metadata": {},
   "source": [
    "**Insight**: Most people who prefer getting emails or calls are successfully converted"
   ]
  },
  {
   "cell_type": "markdown",
   "id": "65a55bad-c545-42da-81a3-b3d8250301b0",
   "metadata": {},
   "source": [
    "### Total Visits vs Conversions"
   ]
  },
  {
   "cell_type": "code",
   "execution_count": 205,
   "id": "516cc5b4-aab5-469c-89bd-50a1decb5fbf",
   "metadata": {},
   "outputs": [
    {
     "data": {
      "image/png": "[encoded data removed]",
      "text/plain": [
       "<Figure size 640x480 with 1 Axes>"
      ]
     },
     "metadata": {},
     "output_type": "display_data"
    }
   ],
   "source": [
    "leads_data.groupby(\"Converted\")[\"TotalVisits\"].aggregate([\"mean\", \"median\"]).plot.bar()\n",
    "plt.show()"
   ]
  },
  {
   "cell_type": "markdown",
   "id": "723ac75a-4d49-475e-9634-5162abcec4ff",
   "metadata": {},
   "source": [
    "**Insight**: Total visits don't play any significant role in conversions. We need not use them for our model so there won't be any need to handle the outliers."
   ]
  },
  {
   "cell_type": "markdown",
   "id": "92caaad0-5b8d-48d6-87bc-c954c48ba04b",
   "metadata": {},
   "source": [
    "### Total Time Spent on Website vs Conversion rate"
   ]
  },
  {
   "cell_type": "code",
   "execution_count": 206,
   "id": "0e7dda1a-7e21-41f9-a597-607f73a036eb",
   "metadata": {},
   "outputs": [
    {
     "data": {
      "image/png": "[encoded data removed]",
      "text/plain": [
       "<Figure size 640x480 with 1 Axes>"
      ]
     },
     "metadata": {},
     "output_type": "display_data"
    }
   ],
   "source": [
    "leads_data.groupby(\"Converted\")[\"Total Time Spent on Website\"].aggregate([\"mean\", \"median\"]).plot.bar()\n",
    "plt.show()"
   ]
  },
  {
   "cell_type": "markdown",
   "id": "95c20454-8667-49b3-b0d5-4d1c54c9c60c",
   "metadata": {},
   "source": [
    "**Insight**\n",
    "\n",
    "Clearly, more time spent on the website is correlated with a higher number of conversions."
   ]
  },
  {
   "cell_type": "markdown",
   "id": "a83ea9b1-d4f1-4cd1-80fd-257f36df4417",
   "metadata": {},
   "source": [
    "### Page Views Per Visit vs Conversions"
   ]
  },
  {
   "cell_type": "code",
   "execution_count": 207,
   "id": "fbfb38ad-86bd-4f6e-8e6d-3ecfb6c5ec8f",
   "metadata": {},
   "outputs": [
    {
     "data": {
      "image/png": "[encoded data removed]",
      "text/plain": [
       "<Figure size 640x480 with 1 Axes>"
      ]
     },
     "metadata": {},
     "output_type": "display_data"
    }
   ],
   "source": [
    "leads_data.groupby(\"Converted\")[\"Page Views Per Visit\"].aggregate([\"mean\", \"median\"]).plot.bar()\n",
    "plt.show()"
   ]
  },
  {
   "cell_type": "markdown",
   "id": "bd8bbd7c-cb34-4a52-abf5-90c376a63910",
   "metadata": {},
   "source": [
    "**Insight:** Page views per visit also have negligible impact on lead conversions. We need not use them for our model so there won't be any need to handle the outliers."
   ]
  },
  {
   "cell_type": "markdown",
   "id": "1459ce87-d8c3-44bc-8cfb-7592d5b8ac9c",
   "metadata": {},
   "source": [
    "### Lead Origin vs Conversion"
   ]
  },
  {
   "cell_type": "code",
   "execution_count": 208,
   "id": "bed1f9b0-3b14-4edb-80b8-8ce60e4ed076",
   "metadata": {},
   "outputs": [
    {
     "data": {
      "image/png": "[encoded data removed]",
      "text/plain": [
       "<Figure size 1500x500 with 1 Axes>"
      ]
     },
     "metadata": {},
     "output_type": "display_data"
    }
   ],
   "source": [
    "plt.figure(figsize=[15,5])\n",
    "leads_data.groupby(\"Lead Origin\")[\"Converted\"].mean().plot.barh()\n",
    "plt.show()"
   ]
  },
  {
   "cell_type": "markdown",
   "id": "a77a1fff-f689-4635-aa50-39af43766e55",
   "metadata": {},
   "source": [
    "### Lead Sources vs Conversions"
   ]
  },
  {
   "cell_type": "code",
   "execution_count": 209,
   "id": "a09063db-5e90-491c-8de8-cdcb555c2c93",
   "metadata": {},
   "outputs": [
    {
     "data": {
      "image/png": "[encoded data removed]",
      "text/plain": [
       "<Figure size 1500x500 with 1 Axes>"
      ]
     },
     "metadata": {},
     "output_type": "display_data"
    }
   ],
   "source": [
    "plt.figure(figsize=[15,5])\n",
    "leads_data.groupby(\"Lead Source\")[\"Converted\"].mean().plot.barh()\n",
    "plt.show()"
   ]
  },
  {
   "cell_type": "markdown",
   "id": "07e06462-c1ec-422c-94be-117a3e085f17",
   "metadata": {},
   "source": [
    "**Insight**:\n",
    "\n",
    "Leads who have received, resubscribed to emails or approached upfront are most likely to convert.\n",
    "\n",
    "Olark Chat conversation, bounced emails are least like to become successful conversions"
   ]
  },
  {
   "cell_type": "markdown",
   "id": "3494174d-334e-4057-b75b-08a854f6aa3b",
   "metadata": {},
   "source": [
    "## Data preparation"
   ]
  },
  {
   "cell_type": "markdown",
   "id": "8b2e3453-8e73-48aa-b8bf-63827f2f954c",
   "metadata": {},
   "source": [
    "### Convert columns to categorical\n",
    "\n",
    "For all the categorical columns, we need to create dummy variables"
   ]
  },
  {
   "cell_type": "code",
   "execution_count": null,
   "id": "0b15b7b9-57cc-4751-a22f-20f79c21b3a4",
   "metadata": {},
   "outputs": [],
   "source": []
  },
  {
   "cell_type": "code",
   "execution_count": null,
   "id": "1876f24c-28ea-44d6-9fdb-1b2ebf5d8841",
   "metadata": {},
   "outputs": [],
   "source": []
  },
  {
   "cell_type": "markdown",
   "id": "f235e51d-1896-48f5-83b4-8cc31b39ed17",
   "metadata": {},
   "source": [
    "### Select candidate columns, and drop the unnecessary ones"
   ]
  },
  {
   "cell_type": "code",
   "execution_count": null,
   "id": "39b57afa-724a-494c-89c8-0325dd86000c",
   "metadata": {},
   "outputs": [],
   "source": []
  },
  {
   "cell_type": "code",
   "execution_count": null,
   "id": "98cd4ef3-57fa-478c-a462-7625d0b4df0f",
   "metadata": {},
   "outputs": [],
   "source": []
  },
  {
   "cell_type": "code",
   "execution_count": null,
   "id": "82b97279-32bc-444d-9168-eb6908efcca1",
   "metadata": {},
   "outputs": [],
   "source": []
  },
  {
   "cell_type": "markdown",
   "id": "31d708ea-5c1a-4bbd-ad34-c5df3d16c857",
   "metadata": {},
   "source": [
    "### Split the dataset into training and testing sets"
   ]
  },
  {
   "cell_type": "code",
   "execution_count": null,
   "id": "e88c78a4-3fa1-4fff-b28a-ce4d1933a0ab",
   "metadata": {},
   "outputs": [],
   "source": []
  },
  {
   "cell_type": "code",
   "execution_count": null,
   "id": "cf18cf53-2b1f-41a5-bb04-e97987df133d",
   "metadata": {},
   "outputs": [],
   "source": []
  },
  {
   "cell_type": "code",
   "execution_count": null,
   "id": "18ab38cb-4152-49d0-b3da-35b9c66e0293",
   "metadata": {},
   "outputs": [],
   "source": []
  },
  {
   "cell_type": "markdown",
   "id": "d4fac525-ad87-4656-935a-5658c27c5624",
   "metadata": {},
   "source": [
    "### Data rescaling"
   ]
  },
  {
   "cell_type": "code",
   "execution_count": null,
   "id": "2626ab1b-7b70-43d3-94d2-0f404f94c48e",
   "metadata": {},
   "outputs": [],
   "source": []
  },
  {
   "cell_type": "code",
   "execution_count": null,
   "id": "69e3a00d-c05f-4a34-b96c-f462f546a1a1",
   "metadata": {},
   "outputs": [],
   "source": []
  },
  {
   "cell_type": "markdown",
   "id": "c1da627a-ec48-4645-aae7-ffdb60d7bd76",
   "metadata": {},
   "source": [
    "### Model building"
   ]
  },
  {
   "cell_type": "code",
   "execution_count": null,
   "id": "9b7157be-0bd8-4037-9e99-6b176562fc74",
   "metadata": {},
   "outputs": [],
   "source": []
  },
  {
   "cell_type": "code",
   "execution_count": null,
   "id": "5e3a27d0-4402-41ee-bd8f-3c73676182b3",
   "metadata": {},
   "outputs": [],
   "source": []
  },
  {
   "cell_type": "code",
   "execution_count": null,
   "id": "44894ec1-99d2-4322-a17f-a4b979546db3",
   "metadata": {},
   "outputs": [],
   "source": []
  },
  {
   "cell_type": "code",
   "execution_count": null,
   "id": "04fec1e5-6be7-429d-99fb-1527a6e002ab",
   "metadata": {},
   "outputs": [],
   "source": []
  }
 ],
 "metadata": {
  "kernelspec": {
   "display_name": "Python 3 (ipykernel)",
   "language": "python",
   "name": "python3"
  },
  "language_info": {
   "codemirror_mode": {
    "name": "ipython",
    "version": 3
   },
   "file_extension": ".py",
   "mimetype": "text/x-python",
   "name": "python",
   "nbconvert_exporter": "python",
   "pygments_lexer": "ipython3",
   "version": "3.8.10"
  }
 },
 "nbformat": 4,
 "nbformat_minor": 5
}
